{
 "cells": [
  {
   "cell_type": "code",
   "execution_count": 1,
   "id": "415bcda9-db46-4815-b109-5904c0542b83",
   "metadata": {},
   "outputs": [],
   "source": [
    "import pandas as pd\n",
    "import numpy as np\n",
    "import matplotlib.pyplot as plt\n",
    "import seaborn as sns\n",
    "sns.set()"
   ]
  },
  {
   "cell_type": "code",
   "execution_count": 77,
   "id": "f0758e9d-7649-4104-b34b-67a6f2d23ec8",
   "metadata": {},
   "outputs": [
    {
     "name": "stdout",
     "output_type": "stream",
     "text": [
      "(12701, 12)\n"
     ]
    },
    {
     "data": {
      "text/html": [
       "<div>\n",
       "<style scoped>\n",
       "    .dataframe tbody tr th:only-of-type {\n",
       "        vertical-align: middle;\n",
       "    }\n",
       "\n",
       "    .dataframe tbody tr th {\n",
       "        vertical-align: top;\n",
       "    }\n",
       "\n",
       "    .dataframe thead th {\n",
       "        text-align: right;\n",
       "    }\n",
       "</style>\n",
       "<table border=\"1\" class=\"dataframe\">\n",
       "  <thead>\n",
       "    <tr style=\"text-align: right;\">\n",
       "      <th></th>\n",
       "      <th>Open_time</th>\n",
       "      <th>Open</th>\n",
       "      <th>High</th>\n",
       "      <th>Low</th>\n",
       "      <th>Close</th>\n",
       "      <th>Volume</th>\n",
       "      <th>QV</th>\n",
       "      <th>NOT</th>\n",
       "      <th>TBB</th>\n",
       "      <th>TBQ</th>\n",
       "      <th>Volatility</th>\n",
       "      <th>target</th>\n",
       "    </tr>\n",
       "  </thead>\n",
       "  <tbody>\n",
       "    <tr>\n",
       "      <th>0</th>\n",
       "      <td>2021-05-13 09:00:00</td>\n",
       "      <td>1.6625</td>\n",
       "      <td>1.6800</td>\n",
       "      <td>1.6623</td>\n",
       "      <td>1.6737</td>\n",
       "      <td>2878032.99</td>\n",
       "      <td>4.821304e+06</td>\n",
       "      <td>5125</td>\n",
       "      <td>1702161.28</td>\n",
       "      <td>2.851617e+06</td>\n",
       "      <td>0.673684</td>\n",
       "      <td>0</td>\n",
       "    </tr>\n",
       "    <tr>\n",
       "      <th>1</th>\n",
       "      <td>2021-05-13 09:05:00</td>\n",
       "      <td>1.6738</td>\n",
       "      <td>1.6790</td>\n",
       "      <td>1.6686</td>\n",
       "      <td>1.6733</td>\n",
       "      <td>2723854.15</td>\n",
       "      <td>4.558141e+06</td>\n",
       "      <td>4318</td>\n",
       "      <td>1516726.12</td>\n",
       "      <td>2.538139e+06</td>\n",
       "      <td>-0.029872</td>\n",
       "      <td>0</td>\n",
       "    </tr>\n",
       "    <tr>\n",
       "      <th>2</th>\n",
       "      <td>2021-05-13 09:10:00</td>\n",
       "      <td>1.6734</td>\n",
       "      <td>1.6749</td>\n",
       "      <td>1.6496</td>\n",
       "      <td>1.6514</td>\n",
       "      <td>3653708.06</td>\n",
       "      <td>6.075417e+06</td>\n",
       "      <td>5561</td>\n",
       "      <td>1625405.03</td>\n",
       "      <td>2.702822e+06</td>\n",
       "      <td>-1.314689</td>\n",
       "      <td>1</td>\n",
       "    </tr>\n",
       "    <tr>\n",
       "      <th>3</th>\n",
       "      <td>2021-05-13 09:15:00</td>\n",
       "      <td>1.6515</td>\n",
       "      <td>1.6708</td>\n",
       "      <td>1.6500</td>\n",
       "      <td>1.6693</td>\n",
       "      <td>3313388.75</td>\n",
       "      <td>5.505110e+06</td>\n",
       "      <td>5374</td>\n",
       "      <td>1797877.23</td>\n",
       "      <td>2.987432e+06</td>\n",
       "      <td>1.077808</td>\n",
       "      <td>0</td>\n",
       "    </tr>\n",
       "    <tr>\n",
       "      <th>4</th>\n",
       "      <td>2021-05-13 09:20:00</td>\n",
       "      <td>1.6690</td>\n",
       "      <td>1.6728</td>\n",
       "      <td>1.6587</td>\n",
       "      <td>1.6668</td>\n",
       "      <td>3478711.17</td>\n",
       "      <td>5.794350e+06</td>\n",
       "      <td>5799</td>\n",
       "      <td>1736515.81</td>\n",
       "      <td>2.892649e+06</td>\n",
       "      <td>-0.131815</td>\n",
       "      <td>0</td>\n",
       "    </tr>\n",
       "  </tbody>\n",
       "</table>\n",
       "</div>"
      ],
      "text/plain": [
       "             Open_time    Open    High     Low   Close      Volume  \\\n",
       "0  2021-05-13 09:00:00  1.6625  1.6800  1.6623  1.6737  2878032.99   \n",
       "1  2021-05-13 09:05:00  1.6738  1.6790  1.6686  1.6733  2723854.15   \n",
       "2  2021-05-13 09:10:00  1.6734  1.6749  1.6496  1.6514  3653708.06   \n",
       "3  2021-05-13 09:15:00  1.6515  1.6708  1.6500  1.6693  3313388.75   \n",
       "4  2021-05-13 09:20:00  1.6690  1.6728  1.6587  1.6668  3478711.17   \n",
       "\n",
       "             QV   NOT         TBB           TBQ  Volatility  target  \n",
       "0  4.821304e+06  5125  1702161.28  2.851617e+06    0.673684       0  \n",
       "1  4.558141e+06  4318  1516726.12  2.538139e+06   -0.029872       0  \n",
       "2  6.075417e+06  5561  1625405.03  2.702822e+06   -1.314689       1  \n",
       "3  5.505110e+06  5374  1797877.23  2.987432e+06    1.077808       0  \n",
       "4  5.794350e+06  5799  1736515.81  2.892649e+06   -0.131815       0  "
      ]
     },
     "execution_count": 77,
     "metadata": {},
     "output_type": "execute_result"
    }
   ],
   "source": [
    "data = pd.read_csv('data/train.csv')\n",
    "print(data.shape)\n",
    "data.head()"
   ]
  },
  {
   "cell_type": "code",
   "execution_count": 78,
   "id": "69dc7aa1-a5a2-486f-922c-f425b383e74d",
   "metadata": {},
   "outputs": [
    {
     "data": {
      "text/html": [
       "<div>\n",
       "<style scoped>\n",
       "    .dataframe tbody tr th:only-of-type {\n",
       "        vertical-align: middle;\n",
       "    }\n",
       "\n",
       "    .dataframe tbody tr th {\n",
       "        vertical-align: top;\n",
       "    }\n",
       "\n",
       "    .dataframe thead th {\n",
       "        text-align: right;\n",
       "    }\n",
       "</style>\n",
       "<table border=\"1\" class=\"dataframe\">\n",
       "  <thead>\n",
       "    <tr style=\"text-align: right;\">\n",
       "      <th></th>\n",
       "      <th>Open</th>\n",
       "      <th>High</th>\n",
       "      <th>Low</th>\n",
       "      <th>Close</th>\n",
       "      <th>Volume</th>\n",
       "      <th>QV</th>\n",
       "      <th>NOT</th>\n",
       "      <th>TBB</th>\n",
       "      <th>TBQ</th>\n",
       "      <th>Volatility</th>\n",
       "      <th>target</th>\n",
       "    </tr>\n",
       "    <tr>\n",
       "      <th>Open_time</th>\n",
       "      <th></th>\n",
       "      <th></th>\n",
       "      <th></th>\n",
       "      <th></th>\n",
       "      <th></th>\n",
       "      <th></th>\n",
       "      <th></th>\n",
       "      <th></th>\n",
       "      <th></th>\n",
       "      <th></th>\n",
       "      <th></th>\n",
       "    </tr>\n",
       "  </thead>\n",
       "  <tbody>\n",
       "    <tr>\n",
       "      <th>2021-05-13 09:00</th>\n",
       "      <td>1.6625</td>\n",
       "      <td>1.6800</td>\n",
       "      <td>1.6623</td>\n",
       "      <td>1.6737</td>\n",
       "      <td>2878032.99</td>\n",
       "      <td>4.821304e+06</td>\n",
       "      <td>5125</td>\n",
       "      <td>1702161.28</td>\n",
       "      <td>2.851617e+06</td>\n",
       "      <td>0.673684</td>\n",
       "      <td>0</td>\n",
       "    </tr>\n",
       "    <tr>\n",
       "      <th>2021-05-13 09:05</th>\n",
       "      <td>1.6738</td>\n",
       "      <td>1.6790</td>\n",
       "      <td>1.6686</td>\n",
       "      <td>1.6733</td>\n",
       "      <td>2723854.15</td>\n",
       "      <td>4.558141e+06</td>\n",
       "      <td>4318</td>\n",
       "      <td>1516726.12</td>\n",
       "      <td>2.538139e+06</td>\n",
       "      <td>-0.029872</td>\n",
       "      <td>0</td>\n",
       "    </tr>\n",
       "    <tr>\n",
       "      <th>2021-05-13 09:10</th>\n",
       "      <td>1.6734</td>\n",
       "      <td>1.6749</td>\n",
       "      <td>1.6496</td>\n",
       "      <td>1.6514</td>\n",
       "      <td>3653708.06</td>\n",
       "      <td>6.075417e+06</td>\n",
       "      <td>5561</td>\n",
       "      <td>1625405.03</td>\n",
       "      <td>2.702822e+06</td>\n",
       "      <td>-1.314689</td>\n",
       "      <td>1</td>\n",
       "    </tr>\n",
       "    <tr>\n",
       "      <th>2021-05-13 09:15</th>\n",
       "      <td>1.6515</td>\n",
       "      <td>1.6708</td>\n",
       "      <td>1.6500</td>\n",
       "      <td>1.6693</td>\n",
       "      <td>3313388.75</td>\n",
       "      <td>5.505110e+06</td>\n",
       "      <td>5374</td>\n",
       "      <td>1797877.23</td>\n",
       "      <td>2.987432e+06</td>\n",
       "      <td>1.077808</td>\n",
       "      <td>0</td>\n",
       "    </tr>\n",
       "    <tr>\n",
       "      <th>2021-05-13 09:20</th>\n",
       "      <td>1.6690</td>\n",
       "      <td>1.6728</td>\n",
       "      <td>1.6587</td>\n",
       "      <td>1.6668</td>\n",
       "      <td>3478711.17</td>\n",
       "      <td>5.794350e+06</td>\n",
       "      <td>5799</td>\n",
       "      <td>1736515.81</td>\n",
       "      <td>2.892649e+06</td>\n",
       "      <td>-0.131815</td>\n",
       "      <td>0</td>\n",
       "    </tr>\n",
       "  </tbody>\n",
       "</table>\n",
       "</div>"
      ],
      "text/plain": [
       "                    Open    High     Low   Close      Volume            QV  \\\n",
       "Open_time                                                                    \n",
       "2021-05-13 09:00  1.6625  1.6800  1.6623  1.6737  2878032.99  4.821304e+06   \n",
       "2021-05-13 09:05  1.6738  1.6790  1.6686  1.6733  2723854.15  4.558141e+06   \n",
       "2021-05-13 09:10  1.6734  1.6749  1.6496  1.6514  3653708.06  6.075417e+06   \n",
       "2021-05-13 09:15  1.6515  1.6708  1.6500  1.6693  3313388.75  5.505110e+06   \n",
       "2021-05-13 09:20  1.6690  1.6728  1.6587  1.6668  3478711.17  5.794350e+06   \n",
       "\n",
       "                   NOT         TBB           TBQ  Volatility  target  \n",
       "Open_time                                                             \n",
       "2021-05-13 09:00  5125  1702161.28  2.851617e+06    0.673684       0  \n",
       "2021-05-13 09:05  4318  1516726.12  2.538139e+06   -0.029872       0  \n",
       "2021-05-13 09:10  5561  1625405.03  2.702822e+06   -1.314689       1  \n",
       "2021-05-13 09:15  5374  1797877.23  2.987432e+06    1.077808       0  \n",
       "2021-05-13 09:20  5799  1736515.81  2.892649e+06   -0.131815       0  "
      ]
     },
     "execution_count": 78,
     "metadata": {},
     "output_type": "execute_result"
    }
   ],
   "source": [
    "data['Open_time'] = data['Open_time'].apply(pd.to_datetime)\n",
    "data = data.set_index('Open_time')\n",
    "data.index = data.index.to_period(freq='min')\n",
    "data.head()"
   ]
  },
  {
   "cell_type": "markdown",
   "id": "fa541ef5-9834-43d6-ba51-1b929e145cd5",
   "metadata": {},
   "source": [
    "## Scale "
   ]
  },
  {
   "cell_type": "code",
   "execution_count": 81,
   "id": "f34616f8-3f7c-4a7f-972c-c9dfbd4f5948",
   "metadata": {},
   "outputs": [],
   "source": [
    "from sklearn.preprocessing import StandardScaler\n",
    "\n",
    "scaler = StandardScaler()\n",
    "\n",
    "scaled_values = scaler.fit_transform(data.drop(columns='target'))"
   ]
  },
  {
   "cell_type": "code",
   "execution_count": 82,
   "id": "602db477-797d-4ba6-8a95-5b22aa451f5c",
   "metadata": {},
   "outputs": [
    {
     "data": {
      "text/html": [
       "<div>\n",
       "<style scoped>\n",
       "    .dataframe tbody tr th:only-of-type {\n",
       "        vertical-align: middle;\n",
       "    }\n",
       "\n",
       "    .dataframe tbody tr th {\n",
       "        vertical-align: top;\n",
       "    }\n",
       "\n",
       "    .dataframe thead th {\n",
       "        text-align: right;\n",
       "    }\n",
       "</style>\n",
       "<table border=\"1\" class=\"dataframe\">\n",
       "  <thead>\n",
       "    <tr style=\"text-align: right;\">\n",
       "      <th></th>\n",
       "      <th>Open</th>\n",
       "      <th>High</th>\n",
       "      <th>Low</th>\n",
       "      <th>Close</th>\n",
       "      <th>Volume</th>\n",
       "      <th>QV</th>\n",
       "      <th>NOT</th>\n",
       "      <th>TBB</th>\n",
       "      <th>TBQ</th>\n",
       "      <th>Volatility</th>\n",
       "      <th>target</th>\n",
       "    </tr>\n",
       "    <tr>\n",
       "      <th>Open_time</th>\n",
       "      <th></th>\n",
       "      <th></th>\n",
       "      <th></th>\n",
       "      <th></th>\n",
       "      <th></th>\n",
       "      <th></th>\n",
       "      <th></th>\n",
       "      <th></th>\n",
       "      <th></th>\n",
       "      <th></th>\n",
       "      <th></th>\n",
       "    </tr>\n",
       "  </thead>\n",
       "  <tbody>\n",
       "    <tr>\n",
       "      <th>2021-05-13 09:00</th>\n",
       "      <td>0.243189</td>\n",
       "      <td>0.285555</td>\n",
       "      <td>0.271220</td>\n",
       "      <td>0.288679</td>\n",
       "      <td>0.234669</td>\n",
       "      <td>0.249935</td>\n",
       "      <td>0.075714</td>\n",
       "      <td>0.449683</td>\n",
       "      <td>0.453986</td>\n",
       "      <td>0.847823</td>\n",
       "      <td>0</td>\n",
       "    </tr>\n",
       "    <tr>\n",
       "      <th>2021-05-13 09:05</th>\n",
       "      <td>0.288975</td>\n",
       "      <td>0.281520</td>\n",
       "      <td>0.296864</td>\n",
       "      <td>0.287058</td>\n",
       "      <td>0.172345</td>\n",
       "      <td>0.187337</td>\n",
       "      <td>-0.104384</td>\n",
       "      <td>0.300821</td>\n",
       "      <td>0.307768</td>\n",
       "      <td>-0.038690</td>\n",
       "      <td>0</td>\n",
       "    </tr>\n",
       "    <tr>\n",
       "      <th>2021-05-13 09:10</th>\n",
       "      <td>0.287354</td>\n",
       "      <td>0.264976</td>\n",
       "      <td>0.219525</td>\n",
       "      <td>0.198330</td>\n",
       "      <td>0.548218</td>\n",
       "      <td>0.548247</td>\n",
       "      <td>0.173016</td>\n",
       "      <td>0.388065</td>\n",
       "      <td>0.384582</td>\n",
       "      <td>-1.657616</td>\n",
       "      <td>1</td>\n",
       "    </tr>\n",
       "    <tr>\n",
       "      <th>2021-05-13 09:15</th>\n",
       "      <td>0.198618</td>\n",
       "      <td>0.248432</td>\n",
       "      <td>0.221153</td>\n",
       "      <td>0.270852</td>\n",
       "      <td>0.410651</td>\n",
       "      <td>0.412590</td>\n",
       "      <td>0.131283</td>\n",
       "      <td>0.526521</td>\n",
       "      <td>0.517335</td>\n",
       "      <td>1.357037</td>\n",
       "      <td>0</td>\n",
       "    </tr>\n",
       "    <tr>\n",
       "      <th>2021-05-13 09:20</th>\n",
       "      <td>0.269526</td>\n",
       "      <td>0.256503</td>\n",
       "      <td>0.256566</td>\n",
       "      <td>0.260723</td>\n",
       "      <td>0.477479</td>\n",
       "      <td>0.481391</td>\n",
       "      <td>0.226130</td>\n",
       "      <td>0.477262</td>\n",
       "      <td>0.473125</td>\n",
       "      <td>-0.167143</td>\n",
       "      <td>0</td>\n",
       "    </tr>\n",
       "  </tbody>\n",
       "</table>\n",
       "</div>"
      ],
      "text/plain": [
       "                      Open      High       Low     Close    Volume        QV  \\\n",
       "Open_time                                                                      \n",
       "2021-05-13 09:00  0.243189  0.285555  0.271220  0.288679  0.234669  0.249935   \n",
       "2021-05-13 09:05  0.288975  0.281520  0.296864  0.287058  0.172345  0.187337   \n",
       "2021-05-13 09:10  0.287354  0.264976  0.219525  0.198330  0.548218  0.548247   \n",
       "2021-05-13 09:15  0.198618  0.248432  0.221153  0.270852  0.410651  0.412590   \n",
       "2021-05-13 09:20  0.269526  0.256503  0.256566  0.260723  0.477479  0.481391   \n",
       "\n",
       "                       NOT       TBB       TBQ  Volatility  target  \n",
       "Open_time                                                           \n",
       "2021-05-13 09:00  0.075714  0.449683  0.453986    0.847823       0  \n",
       "2021-05-13 09:05 -0.104384  0.300821  0.307768   -0.038690       0  \n",
       "2021-05-13 09:10  0.173016  0.388065  0.384582   -1.657616       1  \n",
       "2021-05-13 09:15  0.131283  0.526521  0.517335    1.357037       0  \n",
       "2021-05-13 09:20  0.226130  0.477262  0.473125   -0.167143       0  "
      ]
     },
     "execution_count": 82,
     "metadata": {},
     "output_type": "execute_result"
    }
   ],
   "source": [
    "data_scaled = pd.DataFrame(scaled_values, columns=data.columns.drop('target') , index=data.index)\n",
    "data_scaled['target'] = data['target'].values\n",
    "data_scaled.head()"
   ]
  },
  {
   "cell_type": "markdown",
   "id": "65ee9e1e-4951-406f-934e-9d125d83cefa",
   "metadata": {},
   "source": [
    "## Try feature tools"
   ]
  },
  {
   "cell_type": "code",
   "execution_count": 83,
   "id": "d77ce438-ff80-472e-9fbe-2b9711e5a9eb",
   "metadata": {},
   "outputs": [],
   "source": [
    "import featuretools as ft"
   ]
  },
  {
   "cell_type": "markdown",
   "id": "06b3f26c-b775-4c1b-bad8-def8dd49c369",
   "metadata": {},
   "source": [
    "\\*\\***Copied!!**\\*\\*\n",
    "\n",
    "Feature tools operates on an idea known as Deep Feature Synthesis. The concept of Deep Feature Synthesis is to use basic building blocks known as feature primitives that can be stacked on top of each other to form new features. The depth of a \"deep feature\" is equal to the number of stacked primitives.\n",
    "\n",
    "The first part of Feature Tools to understand is an entity. This is simply a table, or in pandas, a DataFrame. We corral multiple entities into a single object called an EntitySet. This is just a large data structure composed of many individual entities and the relationships between them.\n"
   ]
  },
  {
   "cell_type": "code",
   "execution_count": 93,
   "id": "e6ee73ce-41f8-4fb7-87f5-a32d65af76df",
   "metadata": {},
   "outputs": [],
   "source": [
    "es = ft.EntitySet(id = 'cardano')"
   ]
  },
  {
   "cell_type": "code",
   "execution_count": 95,
   "id": "573f0100-2413-4cfe-8918-b7338ef3f85d",
   "metadata": {},
   "outputs": [],
   "source": [
    "es = es.entity_from_dataframe(entity_id = 'transactions', dataframe = data_scaled,\n",
    "                              variable_types = {'target': ft.variable_types.Categorical}, \n",
    "                              index='Open_time')"
   ]
  },
  {
   "cell_type": "code",
   "execution_count": 96,
   "id": "7ee119ab-6bad-4b73-b6a5-b293ca1b24a5",
   "metadata": {},
   "outputs": [
    {
     "data": {
      "text/plain": [
       "[Entity: transactions\n",
       "   Variables:\n",
       "     Open_time (dtype: index)\n",
       "     Open (dtype: numeric)\n",
       "     High (dtype: numeric)\n",
       "     Low (dtype: numeric)\n",
       "     Close (dtype: numeric)\n",
       "     Volume (dtype: numeric)\n",
       "     QV (dtype: numeric)\n",
       "     NOT (dtype: numeric)\n",
       "     TBB (dtype: numeric)\n",
       "     TBQ (dtype: numeric)\n",
       "     Volatility (dtype: numeric)\n",
       "     target (dtype: categorical)\n",
       "   Shape:\n",
       "     (Rows: 12701, Columns: 12)]"
      ]
     },
     "execution_count": 96,
     "metadata": {},
     "output_type": "execute_result"
    }
   ],
   "source": [
    "es.entities"
   ]
  },
  {
   "cell_type": "markdown",
   "id": "79e6fdd1-912c-4b3a-98af-131fdaa66657",
   "metadata": {},
   "source": [
    "## Separate into train and test"
   ]
  },
  {
   "cell_type": "code",
   "execution_count": 105,
   "id": "ea1715b3-e21d-4750-817e-dac5eb794ed4",
   "metadata": {},
   "outputs": [],
   "source": [
    "X = data.drop(columns='target')\n",
    "y = data['target']"
   ]
  },
  {
   "cell_type": "code",
   "execution_count": 106,
   "id": "27766e8c-cc7a-4474-a762-fd976455ffc5",
   "metadata": {},
   "outputs": [],
   "source": [
    "from sklearn.model_selection import train_test_split\n",
    "X_train, X_test, y_train, y_test = train_test_split(X, y, test_size=0.33, random_state=42)"
   ]
  },
  {
   "cell_type": "markdown",
   "id": "c7d7d0a8-ae19-4ef9-8a77-146243102778",
   "metadata": {},
   "source": [
    "## Just run a model"
   ]
  },
  {
   "cell_type": "code",
   "execution_count": 139,
   "id": "07261553-faaf-4137-a55e-f622a08345ec",
   "metadata": {},
   "outputs": [
    {
     "data": {
      "text/plain": [
       "array([0, 0, 0, ..., 0, 0, 0])"
      ]
     },
     "execution_count": 139,
     "metadata": {},
     "output_type": "execute_result"
    }
   ],
   "source": [
    "# first, logistic regression\n",
    "from sklearn.linear_model import LogisticRegression\n",
    "\n",
    "model_logistic = LogisticRegression(multi_class='ovr', solver='liblinear', class_weight='balanced', random_state=42)\n",
    "model_logistic.fit(X_train,y_train)\n",
    "y_pred_logistic = model_logistic.predict(X_test)\n",
    "y_pred_logistic"
   ]
  },
  {
   "cell_type": "code",
   "execution_count": 140,
   "id": "71666ad1-5bd2-4ac7-aa5d-3401946ace2e",
   "metadata": {},
   "outputs": [
    {
     "data": {
      "text/plain": [
       "0.7791030534351145"
      ]
     },
     "execution_count": 140,
     "metadata": {},
     "output_type": "execute_result"
    }
   ],
   "source": [
    "from sklearn.metrics import accuracy_score\n",
    "accuracy_score(y_test, y_pred_logistic)"
   ]
  },
  {
   "cell_type": "code",
   "execution_count": 141,
   "id": "bfcbffaf-5031-4929-afe0-45ec42aec3fc",
   "metadata": {},
   "outputs": [
    {
     "data": {
      "image/png": "[encoded data removed]",
      "text/plain": [
       "<Figure size 1440x720 with 1 Axes>"
      ]
     },
     "metadata": {},
     "output_type": "display_data"
    }
   ],
   "source": [
    "fig, ax = plt.subplots(figsize=(20,10))\n",
    "data['target'].value_counts(normalize=True).plot(kind = 'barh', alpha=0.5, ax=ax, label='true', color='b')\n",
    "pd.Series(y_pred_logistic).value_counts(normalize=True).plot(kind = 'barh', alpha=0.5, ax=ax, label='pred', color='orange')\n",
    "plt.yticks(ticks=[0, 1, 2], labels=['wait', 'buy', 'sell']);"
   ]
  },
  {
   "cell_type": "code",
   "execution_count": null,
   "id": "493a08b4-46f6-45e2-bbd6-5b4389b70ea5",
   "metadata": {},
   "outputs": [],
   "source": []
  }
 ],
 "metadata": {
  "kernelspec": {
   "display_name": "Python 3",
   "language": "python",
   "name": "python3"
  },
  "language_info": {
   "codemirror_mode": {
    "name": "ipython",
    "version": 3
   },
   "file_extension": ".py",
   "mimetype": "text/x-python",
   "name": "python",
   "nbconvert_exporter": "python",
   "pygments_lexer": "ipython3",
   "version": "3.7.9"
  }
 },
 "nbformat": 4,
 "nbformat_minor": 5
}
